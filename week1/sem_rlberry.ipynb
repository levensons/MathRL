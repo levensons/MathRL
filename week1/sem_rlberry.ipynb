{
  "nbformat": 4,
  "nbformat_minor": 0,
  "metadata": {
    "colab": {
      "provenance": []
    },
    "kernelspec": {
      "name": "python3",
      "display_name": "Python 3"
    },
    "language_info": {
      "name": "python"
    }
  },
  "cells": [
    {
      "cell_type": "markdown",
      "source": [
        "# Seminar 1. Bandit algorithms"
      ],
      "metadata": {
        "id": "9J-X5rMzJUMZ"
      }
    },
    {
      "cell_type": "code",
      "source": [
        "import numpy as np\n",
        "import matplotlib.pyplot as plt"
      ],
      "metadata": {
        "id": "YaUUElJdLSpQ"
      },
      "execution_count": null,
      "outputs": []
    },
    {
      "cell_type": "markdown",
      "source": [
        "During this course we will use `rlberry` library that contains a lot of helpful things for RL that will allow us focus only on algorithms, not on logging and wrapping environments. Documentation: https://rlberry.readthedocs.io/en/latest/index.html"
      ],
      "metadata": {
        "id": "plCYDpFEKOvP"
      }
    },
    {
      "cell_type": "code",
      "execution_count": null,
      "metadata": {
        "colab": {
          "base_uri": "https://localhost:8080/"
        },
        "id": "vTijjs8lJLdS",
        "outputId": "7f4e780e-960e-4590-8890-df560fb0fc20"
      },
      "outputs": [
        {
          "output_type": "stream",
          "name": "stdout",
          "text": [
            "  Installing build dependencies ... \u001b[?25l\u001b[?25hdone\n",
            "  Getting requirements to build wheel ... \u001b[?25l\u001b[?25hdone\n",
            "    Preparing wheel metadata ... \u001b[?25l\u001b[?25hdone\n",
            "\u001b[K     |████████████████████████████████| 21.8 MB 1.6 MB/s \n",
            "\u001b[K     |████████████████████████████████| 348 kB 51.4 MB/s \n",
            "\u001b[K     |████████████████████████████████| 538 kB 54.3 MB/s \n",
            "\u001b[K     |████████████████████████████████| 209 kB 57.8 MB/s \n",
            "\u001b[K     |████████████████████████████████| 81 kB 9.2 MB/s \n",
            "\u001b[K     |████████████████████████████████| 78 kB 7.9 MB/s \n",
            "\u001b[K     |████████████████████████████████| 112 kB 52.9 MB/s \n",
            "\u001b[K     |████████████████████████████████| 50 kB 6.1 MB/s \n",
            "\u001b[K     |████████████████████████████████| 147 kB 72.4 MB/s \n",
            "\u001b[?25h  Building wheel for rlberry (PEP 517) ... \u001b[?25l\u001b[?25hdone\n",
            "  Building wheel for docopt (setup.py) ... \u001b[?25l\u001b[?25hdone\n",
            "  Building wheel for pyperclip (setup.py) ... \u001b[?25l\u001b[?25hdone\n",
            "  Building wheel for PyOpenGL-accelerate (setup.py) ... \u001b[?25l\u001b[?25hdone\n"
          ]
        }
      ],
      "source": [
        "!pip -q install git+https://github.com/rlberry-py/rlberry.git@v0.3.0#egg=rlberry[default]"
      ]
    },
    {
      "cell_type": "markdown",
      "source": [
        "Base class `BanditWithSimplePolicy` for all our bandit algorithms, for which funcion `fit` has to be redefined. There is also `IndexAgent` base class that will be also suitable for our algorithms, but we focus on more low-lever interface.\n"
      ],
      "metadata": {
        "id": "HHxMujBKBU9o"
      }
    },
    {
      "cell_type": "code",
      "source": [
        "from rlberry.agents.bandits import BanditWithSimplePolicy\n",
        "from rlberry.wrappers import WriterWrapper"
      ],
      "metadata": {
        "id": "yI4WPpsDB3iH",
        "colab": {
          "base_uri": "https://localhost:8080/"
        },
        "outputId": "851d1de3-0c94-4647-c60b-4e76846608dc"
      },
      "execution_count": null,
      "outputs": [
        {
          "output_type": "stream",
          "name": "stderr",
          "text": [
            "/usr/local/lib/python3.7/dist-packages/past/types/oldstr.py:5: DeprecationWarning: Using or importing the ABCs from 'collections' instead of from 'collections.abc' is deprecated since Python 3.3,and in 3.9 it will stop working\n",
            "  from collections import Iterable\n",
            "/usr/local/lib/python3.7/dist-packages/past/builtins/misc.py:4: DeprecationWarning: Using or importing the ABCs from 'collections' instead of from 'collections.abc' is deprecated since Python 3.3,and in 3.9 it will stop working\n",
            "  from collections import Mapping\n"
          ]
        }
      ]
    },
    {
      "cell_type": "markdown",
      "source": [
        "First, we implement the simplest agent that acts greedy with respect to mean estimates for arms."
      ],
      "metadata": {
        "id": "jWJLlt9JB5GE"
      }
    },
    {
      "cell_type": "code",
      "source": [
        "class GreedyAgent(BanditWithSimplePolicy):\n",
        "    \"\"\"\n",
        "        Simple greedy agent.\n",
        "\n",
        "        Parameters:\n",
        "        -----------\n",
        "        env: rlberry bandit environment\n",
        "\n",
        "    \"\"\"\n",
        "    name = \"Greedy\"\n",
        "\n",
        "    def __init__(self, env, eps, **kwargs):\n",
        "        \"\"\"\n",
        "            Usefull fields of base class:\n",
        "            * self.n_arms : number of arms\n",
        "        \"\"\"\n",
        "        BanditWithSimplePolicy.__init__(self, env, **kwargs)\n",
        "        # To track statistics on chosen actions\n",
        "        self.env = WriterWrapper(self.env, self.writer, write_scalar=\"action\")\n",
        "        self.eps = eps\n",
        "\n",
        "    def fit(self, budget=None, **kwargs):\n",
        "        \"\"\"\n",
        "        Fit function for greedy agent\n",
        "        Parameters\n",
        "        ----------\n",
        "        budget: int\n",
        "            Total number of iterations, also called horizon.\n",
        "        \"\"\"\n",
        "        horizon = budget\n",
        "        rewards = np.zeros(horizon)\n",
        "\n",
        "        mu_hats = np.zeros(self.n_arms)  + np.inf\n",
        "        pull_rewards = np.zeros(self.n_arms)\n",
        "        n_pulls = np.zeros(self.n_arms)\n",
        "\n",
        "        for ep in range(horizon):\n",
        "            # choose the optimal action\n",
        "            if np.random.uniform() < self.eps:\n",
        "                action = np.random.choice(np.arange(self.n_arms))\n",
        "            else:\n",
        "                action = np.argmax(mu_hats)\n",
        "            _, reward, _, _ = self.env.step(action)\n",
        "\n",
        "            # update statistics\n",
        "            n_pulls[action] += 1\n",
        "            pull_rewards[action] += reward\n",
        "            mu_hats[action] = pull_rewards[action] / n_pulls[action]\n",
        "\n",
        "            rewards[ep] = reward\n",
        "\n",
        "        self.optimal_action = np.argmax(mu_hats)\n",
        "        info = {\"episode_reward\": np.sum(rewards)}\n",
        "        return info\n"
      ],
      "metadata": {
        "id": "MKF3M9dO-5Sa"
      },
      "execution_count": null,
      "outputs": []
    },
    {
      "cell_type": "code",
      "source": [
        "class ExploreFirstAgent(BanditWithSimplePolicy):\n",
        "    \"\"\"\n",
        "        Explore-First algorithm\n",
        "\n",
        "        Parameters:\n",
        "        -----------\n",
        "        env: rlberry bandit environment\n",
        "        N: int\n",
        "            number of steps used to explore one arm\n",
        "    \"\"\"\n",
        "    name = \"ExploreFirst\"\n",
        "\n",
        "\n",
        "    def __init__(self, env, N, **kwargs):\n",
        "        BanditWithSimplePolicy.__init__(self, env, **kwargs)\n",
        "        self.env = WriterWrapper(self.env, self.writer, write_scalar=\"action\")\n",
        "        # Define the arm estimation budget\n",
        "        self.N = N\n",
        "\n",
        "    def fit(self, budget=None, **kwargs):\n",
        "        \"\"\"\n",
        "        Fit function for Explore-First agent\n",
        "        Parameters\n",
        "        ----------\n",
        "        budget: int\n",
        "            Total number of iterations, also called horizon.\n",
        "        \"\"\"\n",
        "        # Check that learning budget is great than number of exploration steps\n",
        "        if budget < self.n_arms * self.N:\n",
        "            raise ValueError('Exploration phase is too long')\n",
        "\n",
        "        horizon = budget\n",
        "        rewards = np.zeros(horizon)\n",
        "        pull_rewards = np.zeros(self.n_arms)\n",
        "        it = 0\n",
        "\n",
        "        for action in range(self.n_arms):\n",
        "            for ep in range(self.N):\n",
        "                _, reward, _, _ = self.env.step(action)\n",
        "                pull_rewards[action] += reward\n",
        "                rewards[it] = reward\n",
        "                it += 1\n",
        "\n",
        "        # Compute optimal arm with respect to sampled actions\n",
        "        self.optimal_action = np.argmax([pull_rewards / self.N for a in range(self.n_arms)])\n",
        "\n",
        "        for ep in range(self.n_arms * self.N, horizon):\n",
        "            # choose the optimal action\n",
        "            action = self.optimal_action\n",
        "            _, reward, _, _ = self.env.step(action)\n",
        "\n",
        "            rewards[ep] = reward\n",
        "\n",
        "        info = {\"episode_reward\": np.sum(rewards)}\n",
        "        return info\n"
      ],
      "metadata": {
        "id": "ypfrX7H4VaQb"
      },
      "execution_count": null,
      "outputs": []
    },
    {
      "cell_type": "markdown",
      "source": [
        "Next we are going to compare these agents on simple envrionment using `rlberry`."
      ],
      "metadata": {
        "id": "xANWa9GyMhqE"
      }
    },
    {
      "cell_type": "code",
      "source": [
        "from rlberry.envs.bandits import BernoulliBandit\n",
        "env_ctor = BernoulliBandit\n",
        "p = np.array([0.3, 0.4, 0.3, 0.2, 0.45])  # optimal arm is the last one\n",
        "env_kwargs = {\"p\" : p}"
      ],
      "metadata": {
        "id": "jDAosc2gKn0h"
      },
      "execution_count": null,
      "outputs": []
    },
    {
      "cell_type": "code",
      "source": [
        "T = 2500     # budget\n",
        "M = 10       # number of seeds to repeat\n",
        "eps = 0.5\n",
        "N = 200     # number of estimation steps for ExploreFirst algorithm"
      ],
      "metadata": {
        "id": "Yc3AgfS5NNo8"
      },
      "execution_count": null,
      "outputs": []
    },
    {
      "cell_type": "code",
      "source": [
        "from rlberry.manager import AgentManager, plot_writer_data\n",
        "\n",
        "greedy_agent = AgentManager(\n",
        "        GreedyAgent,\n",
        "        (env_ctor, env_kwargs),\n",
        "        init_kwargs={\"eps\": eps},\n",
        "        fit_budget=T,\n",
        "        n_fit=M,\n",
        "        parallelization=\"process\",      # To make parallel evaluation for different seeds\n",
        "        mp_context=\"fork\"\n",
        ")\n",
        "\n",
        "explore_first_agent = AgentManager(\n",
        "        ExploreFirstAgent,\n",
        "        (env_ctor, env_kwargs),\n",
        "        init_kwargs={\"N\": N},\n",
        "        fit_budget=T,\n",
        "        n_fit=M,\n",
        "        parallelization=\"process\",      # To make parallel evaluation for different seeds\n",
        "        mp_context=\"fork\"\n",
        ")\n",
        "\n",
        "agents = [greedy_agent, explore_first_agent]\n"
      ],
      "metadata": {
        "id": "M5_BOqH3M6Ho"
      },
      "execution_count": null,
      "outputs": []
    },
    {
      "cell_type": "code",
      "source": [
        "for agent in agents:\n",
        "    agent.fit()"
      ],
      "metadata": {
        "colab": {
          "base_uri": "https://localhost:8080/"
        },
        "id": "bhfGiud7OUU8",
        "outputId": "7fb67d59-d7f3-4e29-97b7-207a722bfd3e"
      },
      "execution_count": null,
      "outputs": [
        {
          "output_type": "stream",
          "name": "stderr",
          "text": [
            "[INFO] Running AgentManager fit() for Greedy with n_fit = 10 and max_workers = None. \n",
            "/usr/local/lib/python3.7/dist-packages/gym/core.py:257: DeprecationWarning: \u001b[33mWARN: Function `env.seed(seed)` is marked as deprecated and will be removed in the future. Please use `env.reset(seed=seed)` instead.\u001b[0m\n",
            "  \"Function `env.seed(seed)` is marked as deprecated and will be removed in the future. \"\n",
            "/usr/local/lib/python3.7/dist-packages/gym/core.py:257: DeprecationWarning: \u001b[33mWARN: Function `env.seed(seed)` is marked as deprecated and will be removed in the future. Please use `env.reset(seed=seed)` instead.\u001b[0m\n",
            "  \"Function `env.seed(seed)` is marked as deprecated and will be removed in the future. \"\n",
            "[INFO] ... trained! \n",
            "/usr/local/lib/python3.7/dist-packages/gym/core.py:257: DeprecationWarning: \u001b[33mWARN: Function `env.seed(seed)` is marked as deprecated and will be removed in the future. Please use `env.reset(seed=seed)` instead.\u001b[0m\n",
            "  \"Function `env.seed(seed)` is marked as deprecated and will be removed in the future. \"\n",
            "[INFO] Running AgentManager fit() for ExploreFirst with n_fit = 10 and max_workers = None. \n",
            "[INFO] ... trained! \n"
          ]
        }
      ]
    },
    {
      "cell_type": "code",
      "source": [
        "# Compute and plot regret\n",
        "def compute_pseudo_regret(actions):\n",
        "    return np.cumsum(np.max(p) - p[actions.astype(int)])\n",
        "\n",
        "\n",
        "fig = plt.figure(1, figsize=(10, 5))\n",
        "ax = plt.gca()\n",
        "output = plot_writer_data(\n",
        "    agents,\n",
        "    tag=\"action\",\n",
        "    preprocess_func=compute_pseudo_regret,\n",
        "    title=\"Cumulative Pseudo-Regret\",\n",
        "    ax=ax,\n",
        ")"
      ],
      "metadata": {
        "colab": {
          "base_uri": "https://localhost:8080/",
          "height": 351
        },
        "id": "CFTZq0EuPKIV",
        "outputId": "dc7ee756-f2f1-4374-a18a-f7fbbf656ffa"
      },
      "execution_count": null,
      "outputs": [
        {
          "output_type": "display_data",
          "data": {
            "text/plain": [
              "<Figure size 720x360 with 1 Axes>"
            ],
            "image/png": "[encoded data removed]"
          },
          "metadata": {
            "needs_background": "light"
          }
        }
      ]
    },
    {
      "cell_type": "markdown",
      "source": [
        "Questions:\n",
        "* Can we improve performance of greedy algorithm by using of **another initialization**?\n",
        "* What the effect of parameter $N$ on regret curve for Explore-First algorithm? What is the optimal one from theoretical and practical point of view?\n",
        "* What the effect of parameter ɛ on regret curve for ɛ-greedy strategy? What is the proper initailization for it?"
      ],
      "metadata": {
        "id": "6tOwSoFFUNng"
      }
    },
    {
      "cell_type": "code",
      "source": [],
      "metadata": {
        "id": "c_htUN6lS2Fg"
      },
      "execution_count": null,
      "outputs": []
    }
  ]
}